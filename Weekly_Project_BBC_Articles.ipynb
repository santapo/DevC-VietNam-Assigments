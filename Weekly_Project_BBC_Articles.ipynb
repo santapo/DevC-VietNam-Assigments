{
  "nbformat": 4,
  "nbformat_minor": 0,
  "metadata": {
    "kernelspec": {
      "display_name": "Python 3",
      "language": "python",
      "name": "python3"
    },
    "language_info": {
      "codemirror_mode": {
        "name": "ipython",
        "version": 3
      },
      "file_extension": ".py",
      "mimetype": "text/x-python",
      "name": "python",
      "nbconvert_exporter": "python",
      "pygments_lexer": "ipython3",
      "version": "3.7.6"
    },
    "colab": {
      "name": "Weekly-Project-BBC Articles.ipynb",
      "provenance": [],
      "collapsed_sections": [],
      "include_colab_link": true
    }
  },
  "cells": [
    {
      "cell_type": "markdown",
      "metadata": {
        "id": "view-in-github",
        "colab_type": "text"
      },
      "source": [
        "<a href=\"https://colab.research.google.com/github/santapo/DevC-VietNam-Assignments/blob/master/Weekly_Project_BBC_Articles.ipynb\" target=\"_parent\"><img src=\"https://colab.research.google.com/assets/colab-badge.svg\" alt=\"Open In Colab\"/></a>"
      ]
    },
    {
      "cell_type": "markdown",
      "metadata": {
        "id": "s8btHNo7H5Cf"
      },
      "source": [
        "# Organize ML projects with Scikit-Learn"
      ]
    },
    {
      "cell_type": "markdown",
      "metadata": {
        "id": "8yK9CuWlH5Ch"
      },
      "source": [
        "While Machine Learning is powerful, people often overestimate it: apply machine learning to your project, and all your problems will be solved. In reality, it's not this simple. To be effective, one needs to organize the work very well. In this notebook, we will walkthrough practical aspects of a ML project. To look at the big picture, let's start with a checklist below. It should work reasonably well for most ML projects, but make sure to adapt it to your needs:\n",
        "\n",
        "1. **Define the scope of work and objective**\n",
        "    * How is your solution be used?\n",
        "    * How should performance be measured? Are there any contraints?\n",
        "    * How would the problem be solved manually?\n",
        "    * List the available assumptions, and verify if possible.\n",
        "    \n",
        "    \n",
        "2. **Get the data**\n",
        "    * Document where you can get that data\n",
        "    * Store data in a workspace you can easily access\n",
        "    * Convert the data to a format you can easily manipulate\n",
        "    * Check the overview (size, type, sample, description, statistics)\n",
        "    * Data cleaning\n",
        "    \n",
        "    \n",
        "3. **EDA & Data transformation**\n",
        "    * Study each attribute and its characteristics (missing values, type of distribution, usefulness)\n",
        "    * Visualize the data\n",
        "    * Study the correlations between attributes\n",
        "    * Feature selection, Feature Engineering, Feature scaling\n",
        "    * Write functions for all data transformations\n",
        "    \n",
        "    \n",
        "4. **Train models**\n",
        "    * Automate as much as possible\n",
        "    * Train promising models quickly using standard parameters. Measure and compare their performance\n",
        "    * Analyze the errors the models make\n",
        "    * Shortlist the top three of five most promising models, preferring models that make different types of errors.\n",
        "\n",
        "\n",
        "5. **Fine-tunning**\n",
        "    * Treat data transformation choices as hyperparameters, expecially when you are not sure about them (e.g., replace missing values with zeros or with the median value)\n",
        "    * Unless there are very few hyperparameter value to explore, prefer random search over grid search.\n",
        "    * Try ensemble methods\n",
        "    * Test your final model on the test set to estimate the generalizaiton error. Don't tweak your model again, you would start overfitting the test set."
      ]
    },
    {
      "cell_type": "markdown",
      "metadata": {
        "id": "ofeuKevOH5Ch"
      },
      "source": [
        "## Example: Articles categorization"
      ]
    },
    {
      "cell_type": "markdown",
      "metadata": {
        "id": "m2NSUqUEH5Ci"
      },
      "source": [
        "### Objectives"
      ]
    },
    {
      "cell_type": "markdown",
      "metadata": {
        "id": "5GttlMG-H5Cj"
      },
      "source": [
        "Build a model to determine the categories of articles. "
      ]
    },
    {
      "cell_type": "markdown",
      "metadata": {
        "id": "EwbjWOG1H5Ck"
      },
      "source": [
        "### Get Data"
      ]
    },
    {
      "cell_type": "code",
      "metadata": {
        "id": "iWq7xex_H5Ck"
      },
      "source": [
        "import numpy as np\n",
        "import pandas as pd\n",
        "import seaborn as sns\n",
        "import matplotlib.pyplot as plt\n",
        "%matplotlib inline\n",
        "\n",
        "import warnings\n",
        "warnings.filterwarnings('ignore')\n",
        "\n",
        "sns.set_style(\"whitegrid\")"
      ],
      "execution_count": 1,
      "outputs": []
    },
    {
      "cell_type": "code",
      "metadata": {
        "id": "m9W7Hzt2H5Cp"
      },
      "source": [
        "bbc = pd.read_csv('https://raw.githubusercontent.com/dhminh1024/practice_datasets/master/bbc-text.csv')"
      ],
      "execution_count": 2,
      "outputs": []
    },
    {
      "cell_type": "code",
      "metadata": {
        "id": "teb1QvD1H5Cs",
        "outputId": "94f2b72e-ef18-4940-f8ed-7f8491a85708",
        "colab": {
          "base_uri": "https://localhost:8080/",
          "height": 195
        }
      },
      "source": [
        "bbc.sample(5)"
      ],
      "execution_count": 3,
      "outputs": [
        {
          "output_type": "execute_result",
          "data": {
            "text/html": [
              "<div>\n",
              "<style scoped>\n",
              "    .dataframe tbody tr th:only-of-type {\n",
              "        vertical-align: middle;\n",
              "    }\n",
              "\n",
              "    .dataframe tbody tr th {\n",
              "        vertical-align: top;\n",
              "    }\n",
              "\n",
              "    .dataframe thead th {\n",
              "        text-align: right;\n",
              "    }\n",
              "</style>\n",
              "<table border=\"1\" class=\"dataframe\">\n",
              "  <thead>\n",
              "    <tr style=\"text-align: right;\">\n",
              "      <th></th>\n",
              "      <th>category</th>\n",
              "      <th>text</th>\n",
              "    </tr>\n",
              "  </thead>\n",
              "  <tbody>\n",
              "    <tr>\n",
              "      <th>1417</th>\n",
              "      <td>entertainment</td>\n",
              "      <td>blair buys copies of new band aid prime minist...</td>\n",
              "    </tr>\n",
              "    <tr>\n",
              "      <th>2089</th>\n",
              "      <td>entertainment</td>\n",
              "      <td>little britain vies for tv trophy bbc hits lit...</td>\n",
              "    </tr>\n",
              "    <tr>\n",
              "      <th>1322</th>\n",
              "      <td>sport</td>\n",
              "      <td>edwards tips idowu for euro gold world outdoor...</td>\n",
              "    </tr>\n",
              "    <tr>\n",
              "      <th>1313</th>\n",
              "      <td>entertainment</td>\n",
              "      <td>ring of fire hit co-writer dies merle kilgore ...</td>\n",
              "    </tr>\n",
              "    <tr>\n",
              "      <th>1652</th>\n",
              "      <td>entertainment</td>\n",
              "      <td>duran duran show set for us tv chart stars dur...</td>\n",
              "    </tr>\n",
              "  </tbody>\n",
              "</table>\n",
              "</div>"
            ],
            "text/plain": [
              "           category                                               text\n",
              "1417  entertainment  blair buys copies of new band aid prime minist...\n",
              "2089  entertainment  little britain vies for tv trophy bbc hits lit...\n",
              "1322          sport  edwards tips idowu for euro gold world outdoor...\n",
              "1313  entertainment  ring of fire hit co-writer dies merle kilgore ...\n",
              "1652  entertainment  duran duran show set for us tv chart stars dur..."
            ]
          },
          "metadata": {
            "tags": []
          },
          "execution_count": 3
        }
      ]
    },
    {
      "cell_type": "code",
      "metadata": {
        "id": "KBW_Sg2RH5Cy",
        "outputId": "2a4d5f05-fff6-41d1-ff4f-47c267f99f68",
        "colab": {
          "base_uri": "https://localhost:8080/",
          "height": 168
        }
      },
      "source": [
        "bbc.info()"
      ],
      "execution_count": 4,
      "outputs": [
        {
          "output_type": "stream",
          "text": [
            "<class 'pandas.core.frame.DataFrame'>\n",
            "RangeIndex: 2225 entries, 0 to 2224\n",
            "Data columns (total 2 columns):\n",
            " #   Column    Non-Null Count  Dtype \n",
            "---  ------    --------------  ----- \n",
            " 0   category  2225 non-null   object\n",
            " 1   text      2225 non-null   object\n",
            "dtypes: object(2)\n",
            "memory usage: 34.9+ KB\n"
          ],
          "name": "stdout"
        }
      ]
    },
    {
      "cell_type": "markdown",
      "metadata": {
        "id": "gDhInqZa-TsH"
      },
      "source": [
        "### EDA & Data transformation"
      ]
    },
    {
      "cell_type": "code",
      "metadata": {
        "id": "dh3VRY5Zxmw6"
      },
      "source": [
        "# Your code here\n",
        "from sklearn.model_selection import train_test_split\n",
        "\n",
        "train, test = train_test_split(bbc, test_size=0.2)"
      ],
      "execution_count": 5,
      "outputs": []
    },
    {
      "cell_type": "code",
      "metadata": {
        "id": "SLvglfnM-pJs",
        "outputId": "8d95dacd-e6bc-4595-c91a-9f877d472b1e",
        "colab": {
          "base_uri": "https://localhost:8080/",
          "height": 34
        }
      },
      "source": [
        "print(\"total record:\", len(bbc.index))"
      ],
      "execution_count": 6,
      "outputs": [
        {
          "output_type": "stream",
          "text": [
            "total record: 2225\n"
          ],
          "name": "stdout"
        }
      ]
    },
    {
      "cell_type": "code",
      "metadata": {
        "id": "IRGmNuFRWKTR",
        "outputId": "9a84edcc-df0a-411a-e054-4728fe22c812",
        "colab": {
          "base_uri": "https://localhost:8080/",
          "height": 296
        }
      },
      "source": [
        "sns.countplot(bbc[\"category\"])"
      ],
      "execution_count": 7,
      "outputs": [
        {
          "output_type": "execute_result",
          "data": {
            "text/plain": [
              "<matplotlib.axes._subplots.AxesSubplot at 0x7f28de55a438>"
            ]
          },
          "metadata": {
            "tags": []
          },
          "execution_count": 7
        },
        {
          "output_type": "display_data",
          "data": {
            "image/png": "[encoded data removed]",
            "text/plain": [
              "<Figure size 432x288 with 1 Axes>"
            ]
          },
          "metadata": {
            "tags": [],
            "needs_background": "light"
          }
        }
      ]
    },
    {
      "cell_type": "code",
      "metadata": {
        "id": "QH3RZLrFYHJr"
      },
      "source": [
        "from nltk.stem import PorterStemmer\n",
        "porter = PorterStemmer()\n",
        "\n",
        "def tokenizer_porter(text):\n",
        "  return [porter.stem(word) for word in text.split()]"
      ],
      "execution_count": 8,
      "outputs": []
    },
    {
      "cell_type": "code",
      "metadata": {
        "id": "dmqyZwE7cSzK",
        "outputId": "6d06cf06-494d-4255-8da4-182aad5d3439",
        "colab": {
          "base_uri": "https://localhost:8080/",
          "height": 50
        }
      },
      "source": [
        "import nltk\n",
        "from nltk.corpus import stopwords\n",
        "\n",
        "nltk.download('stopwords')\n",
        "stop = stopwords.words('english')"
      ],
      "execution_count": 19,
      "outputs": [
        {
          "output_type": "stream",
          "text": [
            "[nltk_data] Downloading package stopwords to /root/nltk_data...\n",
            "[nltk_data]   Package stopwords is already up-to-date!\n"
          ],
          "name": "stdout"
        }
      ]
    },
    {
      "cell_type": "code",
      "metadata": {
        "id": "dv1m4Vhhiaf0"
      },
      "source": [
        "import re\n",
        "def remove_non_word(text):\n",
        "   emoticons = re.findall('(?::|;|=)(?:-)?(?:\\)|\\(|D|P)', text)\n",
        "   text = (re.sub('[\\W]+', ' ', text.lower()) + ' ' + ' '.join(emoticons).replace('-', ''))\n",
        "   return text"
      ],
      "execution_count": 20,
      "outputs": []
    },
    {
      "cell_type": "markdown",
      "metadata": {
        "id": "i9qkEKCYOGCS"
      },
      "source": [
        "### Train models"
      ]
    },
    {
      "cell_type": "code",
      "metadata": {
        "id": "GHF1--SVAutb"
      },
      "source": [
        "from sklearn.pipeline import Pipeline\n",
        "from sklearn.linear_model import LogisticRegression\n",
        "from sklearn.feature_extraction.text import TfidfVectorizer\n",
        "\n",
        "tfidf = TfidfVectorizer(stop_words=stop,\n",
        "                        tokenizer=tokenizer_porter,\n",
        "                        preprocessor=remove_non_word)"
      ],
      "execution_count": 21,
      "outputs": []
    },
    {
      "cell_type": "code",
      "metadata": {
        "id": "byoWJBT54biT",
        "outputId": "20039983-545d-488a-bd6c-3f8911689710",
        "colab": {
          "base_uri": "https://localhost:8080/",
          "height": 218
        }
      },
      "source": [
        "bbc[\"text\"]"
      ],
      "execution_count": 22,
      "outputs": [
        {
          "output_type": "execute_result",
          "data": {
            "text/plain": [
              "0       tv future in the hands of viewers with home th...\n",
              "1       worldcom boss  left books alone  former worldc...\n",
              "2       tigers wary of farrell  gamble  leicester say ...\n",
              "3       yeading face newcastle in fa cup premiership s...\n",
              "4       ocean s twelve raids box office ocean s twelve...\n",
              "                              ...                        \n",
              "2220    cars pull down us retail figures us retail sal...\n",
              "2221    kilroy unveils immigration policy ex-chatshow ...\n",
              "2222    rem announce new glasgow concert us band rem h...\n",
              "2223    how political squabbles snowball it s become c...\n",
              "2224    souness delight at euro progress boss graeme s...\n",
              "Name: text, Length: 2225, dtype: object"
            ]
          },
          "metadata": {
            "tags": []
          },
          "execution_count": 22
        }
      ]
    },
    {
      "cell_type": "code",
      "metadata": {
        "id": "rgm_egxxAW-t"
      },
      "source": [
        "logistic  = LogisticRegression(random_state=0)"
      ],
      "execution_count": 23,
      "outputs": []
    },
    {
      "cell_type": "code",
      "metadata": {
        "id": "3AZ06blaBSxP",
        "outputId": "16899227-19b5-44b2-a287-ad2394435dc5",
        "colab": {
          "base_uri": "https://localhost:8080/",
          "height": 403
        }
      },
      "source": [
        "pipeline = Pipeline(steps=[('vect', tfidf),\n",
        "                ('logistic', logistic)])\n",
        "pipeline.fit(train[\"text\"], train[\"category\"])"
      ],
      "execution_count": 24,
      "outputs": [
        {
          "output_type": "execute_result",
          "data": {
            "text/plain": [
              "Pipeline(memory=None,\n",
              "         steps=[('vect',\n",
              "                 TfidfVectorizer(analyzer='word', binary=False,\n",
              "                                 decode_error='strict',\n",
              "                                 dtype=<class 'numpy.float64'>,\n",
              "                                 encoding='utf-8', input='content',\n",
              "                                 lowercase=True, max_df=1.0, max_features=None,\n",
              "                                 min_df=1, ngram_range=(1, 1), norm='l2',\n",
              "                                 preprocessor=<function remove_non_word at 0x7f28d813f268>,\n",
              "                                 smooth_idf=True,\n",
              "                                 stop_words=['i', 'me', 'my', 'myself...\n",
              "                                 token_pattern='(?u)\\\\b\\\\w\\\\w+\\\\b',\n",
              "                                 tokenizer=<function tokenizer_porter at 0x7f28de036bf8>,\n",
              "                                 use_idf=True, vocabulary=None)),\n",
              "                ('logistic',\n",
              "                 LogisticRegression(C=1.0, class_weight=None, dual=False,\n",
              "                                    fit_intercept=True, intercept_scaling=1,\n",
              "                                    l1_ratio=None, max_iter=100,\n",
              "                                    multi_class='auto', n_jobs=None,\n",
              "                                    penalty='l2', random_state=0,\n",
              "                                    solver='lbfgs', tol=0.0001, verbose=0,\n",
              "                                    warm_start=False))],\n",
              "         verbose=False)"
            ]
          },
          "metadata": {
            "tags": []
          },
          "execution_count": 24
        }
      ]
    },
    {
      "cell_type": "code",
      "metadata": {
        "id": "PPLcQnIrGA10",
        "outputId": "d3265da9-82bc-410c-9d81-4beb778543e9",
        "colab": {
          "base_uri": "https://localhost:8080/",
          "height": 402
        }
      },
      "source": [
        "p_predict = pipeline.predict_proba(test[\"text\"])\n",
        "f_predict = pipeline.predict(test[\"text\"])\n",
        "p_predict = pd.DataFrame(p_predict).reindex().rename(columns={0: \"business\",1: \"entertainment\",2: \"politics\",3: \"sport\",4: \"tech\"}, errors=\"raise\")\n",
        "f_predict = pd.DataFrame(f_predict).rename(columns={0: \"Predict\"}, errors=\"raise\")\n",
        "predict = pd.concat([test[\"text\"].reset_index(), test[\"category\"].reset_index(),f_predict.reindex(),p_predict], axis=1)\n",
        "predict.drop(\"index\", axis=1)"
      ],
      "execution_count": 25,
      "outputs": [
        {
          "output_type": "execute_result",
          "data": {
            "text/html": [
              "<div>\n",
              "<style scoped>\n",
              "    .dataframe tbody tr th:only-of-type {\n",
              "        vertical-align: middle;\n",
              "    }\n",
              "\n",
              "    .dataframe tbody tr th {\n",
              "        vertical-align: top;\n",
              "    }\n",
              "\n",
              "    .dataframe thead th {\n",
              "        text-align: right;\n",
              "    }\n",
              "</style>\n",
              "<table border=\"1\" class=\"dataframe\">\n",
              "  <thead>\n",
              "    <tr style=\"text-align: right;\">\n",
              "      <th></th>\n",
              "      <th>text</th>\n",
              "      <th>category</th>\n",
              "      <th>Predict</th>\n",
              "      <th>business</th>\n",
              "      <th>entertainment</th>\n",
              "      <th>politics</th>\n",
              "      <th>sport</th>\n",
              "      <th>tech</th>\n",
              "    </tr>\n",
              "  </thead>\n",
              "  <tbody>\n",
              "    <tr>\n",
              "      <th>0</th>\n",
              "      <td>bortolami predicts dour contest italy skipper ...</td>\n",
              "      <td>sport</td>\n",
              "      <td>sport</td>\n",
              "      <td>0.029609</td>\n",
              "      <td>0.034588</td>\n",
              "      <td>0.036958</td>\n",
              "      <td>0.858499</td>\n",
              "      <td>0.040346</td>\n",
              "    </tr>\n",
              "    <tr>\n",
              "      <th>1</th>\n",
              "      <td>totp turns to elvis impersonator top of the po...</td>\n",
              "      <td>entertainment</td>\n",
              "      <td>entertainment</td>\n",
              "      <td>0.036539</td>\n",
              "      <td>0.780692</td>\n",
              "      <td>0.038009</td>\n",
              "      <td>0.077513</td>\n",
              "      <td>0.067246</td>\n",
              "    </tr>\n",
              "    <tr>\n",
              "      <th>2</th>\n",
              "      <td>brewers  profits lose their fizz heineken and ...</td>\n",
              "      <td>business</td>\n",
              "      <td>business</td>\n",
              "      <td>0.943774</td>\n",
              "      <td>0.013989</td>\n",
              "      <td>0.012170</td>\n",
              "      <td>0.013535</td>\n",
              "      <td>0.016532</td>\n",
              "    </tr>\n",
              "    <tr>\n",
              "      <th>3</th>\n",
              "      <td>giant waves damage s asia economy governments ...</td>\n",
              "      <td>business</td>\n",
              "      <td>business</td>\n",
              "      <td>0.851738</td>\n",
              "      <td>0.023264</td>\n",
              "      <td>0.065154</td>\n",
              "      <td>0.022029</td>\n",
              "      <td>0.037816</td>\n",
              "    </tr>\n",
              "    <tr>\n",
              "      <th>4</th>\n",
              "      <td>elvis  set for chart hat-trick  the late us le...</td>\n",
              "      <td>entertainment</td>\n",
              "      <td>entertainment</td>\n",
              "      <td>0.075415</td>\n",
              "      <td>0.756832</td>\n",
              "      <td>0.038077</td>\n",
              "      <td>0.067763</td>\n",
              "      <td>0.061914</td>\n",
              "    </tr>\n",
              "    <tr>\n",
              "      <th>...</th>\n",
              "      <td>...</td>\n",
              "      <td>...</td>\n",
              "      <td>...</td>\n",
              "      <td>...</td>\n",
              "      <td>...</td>\n",
              "      <td>...</td>\n",
              "      <td>...</td>\n",
              "      <td>...</td>\n",
              "    </tr>\n",
              "    <tr>\n",
              "      <th>440</th>\n",
              "      <td>trial date is set for balco case a us judge ha...</td>\n",
              "      <td>sport</td>\n",
              "      <td>sport</td>\n",
              "      <td>0.133163</td>\n",
              "      <td>0.097213</td>\n",
              "      <td>0.064616</td>\n",
              "      <td>0.641921</td>\n",
              "      <td>0.063087</td>\n",
              "    </tr>\n",
              "    <tr>\n",
              "      <th>441</th>\n",
              "      <td>eurovision  greats  to do battle stars of the ...</td>\n",
              "      <td>entertainment</td>\n",
              "      <td>entertainment</td>\n",
              "      <td>0.068113</td>\n",
              "      <td>0.748244</td>\n",
              "      <td>0.050037</td>\n",
              "      <td>0.080127</td>\n",
              "      <td>0.053479</td>\n",
              "    </tr>\n",
              "    <tr>\n",
              "      <th>442</th>\n",
              "      <td>low-budget film wins cesar a film that follows...</td>\n",
              "      <td>entertainment</td>\n",
              "      <td>entertainment</td>\n",
              "      <td>0.033027</td>\n",
              "      <td>0.866613</td>\n",
              "      <td>0.023950</td>\n",
              "      <td>0.044098</td>\n",
              "      <td>0.032311</td>\n",
              "    </tr>\n",
              "    <tr>\n",
              "      <th>443</th>\n",
              "      <td>minimum wage increased to £5.05 the minimum wa...</td>\n",
              "      <td>politics</td>\n",
              "      <td>business</td>\n",
              "      <td>0.484351</td>\n",
              "      <td>0.060722</td>\n",
              "      <td>0.255188</td>\n",
              "      <td>0.083080</td>\n",
              "      <td>0.116658</td>\n",
              "    </tr>\n",
              "    <tr>\n",
              "      <th>444</th>\n",
              "      <td>bates seals takeover ken bates has completed h...</td>\n",
              "      <td>sport</td>\n",
              "      <td>sport</td>\n",
              "      <td>0.279236</td>\n",
              "      <td>0.096307</td>\n",
              "      <td>0.094377</td>\n",
              "      <td>0.465716</td>\n",
              "      <td>0.064364</td>\n",
              "    </tr>\n",
              "  </tbody>\n",
              "</table>\n",
              "<p>445 rows × 8 columns</p>\n",
              "</div>"
            ],
            "text/plain": [
              "                                                  text  ...      tech\n",
              "0    bortolami predicts dour contest italy skipper ...  ...  0.040346\n",
              "1    totp turns to elvis impersonator top of the po...  ...  0.067246\n",
              "2    brewers  profits lose their fizz heineken and ...  ...  0.016532\n",
              "3    giant waves damage s asia economy governments ...  ...  0.037816\n",
              "4    elvis  set for chart hat-trick  the late us le...  ...  0.061914\n",
              "..                                                 ...  ...       ...\n",
              "440  trial date is set for balco case a us judge ha...  ...  0.063087\n",
              "441  eurovision  greats  to do battle stars of the ...  ...  0.053479\n",
              "442  low-budget film wins cesar a film that follows...  ...  0.032311\n",
              "443  minimum wage increased to £5.05 the minimum wa...  ...  0.116658\n",
              "444  bates seals takeover ken bates has completed h...  ...  0.064364\n",
              "\n",
              "[445 rows x 8 columns]"
            ]
          },
          "metadata": {
            "tags": []
          },
          "execution_count": 25
        }
      ]
    },
    {
      "cell_type": "markdown",
      "metadata": {
        "id": "KiQ8h2x1GuVh"
      },
      "source": [
        "### Evaluate Model"
      ]
    },
    {
      "cell_type": "code",
      "metadata": {
        "id": "A1CbKNPaGttk",
        "outputId": "737ed09e-0b3f-43e4-8c65-aa447b640cca",
        "colab": {
          "base_uri": "https://localhost:8080/",
          "height": 353
        }
      },
      "source": [
        "# Using Test dataset to evaluate model\n",
        "# classification_report\n",
        "# confusion matrix\n",
        "from sklearn.metrics import accuracy_score, confusion_matrix, classification_report\n",
        "\n",
        "# Now apply those above metrics to evaluate your model\n",
        "# Your code here\n",
        "predictions = pipeline.predict(test[\"text\"])\n",
        "print('accuracy:',accuracy_score(test[\"category\"],predictions))\n",
        "print('confusion matrix:\\n',confusion_matrix(test[\"category\"],predictions))\n",
        "print('classification report:\\n',classification_report(test[\"category\"],predictions))"
      ],
      "execution_count": 26,
      "outputs": [
        {
          "output_type": "stream",
          "text": [
            "accuracy: 0.9685393258426966\n",
            "confusion matrix:\n",
            " [[ 96   0   3   0   2]\n",
            " [  2  80   0   0   0]\n",
            " [  3   0  87   1   1]\n",
            " [  0   0   0 102   0]\n",
            " [  2   0   0   0  66]]\n",
            "classification report:\n",
            "                precision    recall  f1-score   support\n",
            "\n",
            "     business       0.93      0.95      0.94       101\n",
            "entertainment       1.00      0.98      0.99        82\n",
            "     politics       0.97      0.95      0.96        92\n",
            "        sport       0.99      1.00      1.00       102\n",
            "         tech       0.96      0.97      0.96        68\n",
            "\n",
            "     accuracy                           0.97       445\n",
            "    macro avg       0.97      0.97      0.97       445\n",
            " weighted avg       0.97      0.97      0.97       445\n",
            "\n"
          ],
          "name": "stdout"
        }
      ]
    },
    {
      "cell_type": "markdown",
      "metadata": {
        "id": "FceW66WpPVMn"
      },
      "source": [
        "### Fine-tunning"
      ]
    },
    {
      "cell_type": "code",
      "metadata": {
        "id": "fj_4yZtJPXoN",
        "outputId": "055a118e-5352-4ef8-fcc7-f2aae5018059",
        "colab": {
          "base_uri": "https://localhost:8080/",
          "height": 554
        }
      },
      "source": [
        "from sklearn.model_selection import GridSearchCV\n",
        "parameters = {'logistic__C': [0.001, 0.01, 0.1, 1, 10, 100, 1000],\n",
        "              'logistic__penalty':['l2', 'l1', 'elasticnet']}\n",
        "\n",
        "gridsearch_models = GridSearchCV(pipeline,\n",
        "                                 parameters,\n",
        "                                 scoring='accuracy',\n",
        "                                 cv=5, n_jobs=-1)\n",
        "\n",
        "gridsearch_models.fit(train[\"text\"], train[\"category\"])"
      ],
      "execution_count": 27,
      "outputs": [
        {
          "output_type": "execute_result",
          "data": {
            "text/plain": [
              "GridSearchCV(cv=5, error_score=nan,\n",
              "             estimator=Pipeline(memory=None,\n",
              "                                steps=[('vect',\n",
              "                                        TfidfVectorizer(analyzer='word',\n",
              "                                                        binary=False,\n",
              "                                                        decode_error='strict',\n",
              "                                                        dtype=<class 'numpy.float64'>,\n",
              "                                                        encoding='utf-8',\n",
              "                                                        input='content',\n",
              "                                                        lowercase=True,\n",
              "                                                        max_df=1.0,\n",
              "                                                        max_features=None,\n",
              "                                                        min_df=1,\n",
              "                                                        ngram_range=(1, 1),\n",
              "                                                        norm='l2',\n",
              "                                                        preprocessor=<function remove_non_word at 0x7f28d813f268>,\n",
              "                                                        smoot...\n",
              "                                                           max_iter=100,\n",
              "                                                           multi_class='auto',\n",
              "                                                           n_jobs=None,\n",
              "                                                           penalty='l2',\n",
              "                                                           random_state=0,\n",
              "                                                           solver='lbfgs',\n",
              "                                                           tol=0.0001,\n",
              "                                                           verbose=0,\n",
              "                                                           warm_start=False))],\n",
              "                                verbose=False),\n",
              "             iid='deprecated', n_jobs=-1,\n",
              "             param_grid={'logistic__C': [0.001, 0.01, 0.1, 1, 10, 100, 1000],\n",
              "                         'logistic__penalty': ['l2', 'l1', 'elasticnet']},\n",
              "             pre_dispatch='2*n_jobs', refit=True, return_train_score=False,\n",
              "             scoring='accuracy', verbose=0)"
            ]
          },
          "metadata": {
            "tags": []
          },
          "execution_count": 27
        }
      ]
    },
    {
      "cell_type": "code",
      "metadata": {
        "id": "__gTyZ4l6Z_X",
        "outputId": "4c1b2c8b-397d-4fe2-e611-7e9f27d994af",
        "colab": {
          "base_uri": "https://localhost:8080/",
          "height": 50
        }
      },
      "source": [
        "print('Best params', gridsearch_models.best_params_)\n",
        "print('Best score', gridsearch_models.best_score_)"
      ],
      "execution_count": 28,
      "outputs": [
        {
          "output_type": "stream",
          "text": [
            "Best params {'logistic__C': 1000, 'logistic__penalty': 'l2'}\n",
            "Best score 0.9814606741573033\n"
          ],
          "name": "stdout"
        }
      ]
    },
    {
      "cell_type": "code",
      "metadata": {
        "id": "Hkn40OzKUGuZ"
      },
      "source": [
        "best_model = gridsearch_models.best_estimator_"
      ],
      "execution_count": 29,
      "outputs": []
    },
    {
      "cell_type": "code",
      "metadata": {
        "id": "Sn0-TRqBUKYm",
        "outputId": "4397f4ef-89e6-4b02-bca6-1dd8b9fb07b7",
        "colab": {
          "base_uri": "https://localhost:8080/",
          "height": 402
        }
      },
      "source": [
        "p_predict = best_model.predict_proba(test[\"text\"])\n",
        "f_predict = best_model.predict(test[\"text\"])\n",
        "p_predict = pd.DataFrame(p_predict).reindex().rename(columns={0: \"business\",1: \"entertainment\",2: \"politics\",3: \"sport\",4: \"tech\"}, errors=\"raise\")\n",
        "f_predict = pd.DataFrame(f_predict).rename(columns={0: \"Predict\"}, errors=\"raise\")\n",
        "predict = pd.concat([test[\"text\"].reset_index(), test[\"category\"].reset_index(),f_predict.reindex(),p_predict], axis=1)\n",
        "predict.drop(\"index\", axis=1)"
      ],
      "execution_count": 30,
      "outputs": [
        {
          "output_type": "execute_result",
          "data": {
            "text/html": [
              "<div>\n",
              "<style scoped>\n",
              "    .dataframe tbody tr th:only-of-type {\n",
              "        vertical-align: middle;\n",
              "    }\n",
              "\n",
              "    .dataframe tbody tr th {\n",
              "        vertical-align: top;\n",
              "    }\n",
              "\n",
              "    .dataframe thead th {\n",
              "        text-align: right;\n",
              "    }\n",
              "</style>\n",
              "<table border=\"1\" class=\"dataframe\">\n",
              "  <thead>\n",
              "    <tr style=\"text-align: right;\">\n",
              "      <th></th>\n",
              "      <th>text</th>\n",
              "      <th>category</th>\n",
              "      <th>Predict</th>\n",
              "      <th>business</th>\n",
              "      <th>entertainment</th>\n",
              "      <th>politics</th>\n",
              "      <th>sport</th>\n",
              "      <th>tech</th>\n",
              "    </tr>\n",
              "  </thead>\n",
              "  <tbody>\n",
              "    <tr>\n",
              "      <th>0</th>\n",
              "      <td>bortolami predicts dour contest italy skipper ...</td>\n",
              "      <td>sport</td>\n",
              "      <td>sport</td>\n",
              "      <td>0.000030</td>\n",
              "      <td>0.000083</td>\n",
              "      <td>0.000209</td>\n",
              "      <td>0.999533</td>\n",
              "      <td>0.000145</td>\n",
              "    </tr>\n",
              "    <tr>\n",
              "      <th>1</th>\n",
              "      <td>totp turns to elvis impersonator top of the po...</td>\n",
              "      <td>entertainment</td>\n",
              "      <td>entertainment</td>\n",
              "      <td>0.000017</td>\n",
              "      <td>0.999509</td>\n",
              "      <td>0.000053</td>\n",
              "      <td>0.000213</td>\n",
              "      <td>0.000208</td>\n",
              "    </tr>\n",
              "    <tr>\n",
              "      <th>2</th>\n",
              "      <td>brewers  profits lose their fizz heineken and ...</td>\n",
              "      <td>business</td>\n",
              "      <td>business</td>\n",
              "      <td>0.999993</td>\n",
              "      <td>0.000001</td>\n",
              "      <td>0.000002</td>\n",
              "      <td>0.000002</td>\n",
              "      <td>0.000002</td>\n",
              "    </tr>\n",
              "    <tr>\n",
              "      <th>3</th>\n",
              "      <td>giant waves damage s asia economy governments ...</td>\n",
              "      <td>business</td>\n",
              "      <td>business</td>\n",
              "      <td>0.999800</td>\n",
              "      <td>0.000006</td>\n",
              "      <td>0.000150</td>\n",
              "      <td>0.000005</td>\n",
              "      <td>0.000039</td>\n",
              "    </tr>\n",
              "    <tr>\n",
              "      <th>4</th>\n",
              "      <td>elvis  set for chart hat-trick  the late us le...</td>\n",
              "      <td>entertainment</td>\n",
              "      <td>entertainment</td>\n",
              "      <td>0.000095</td>\n",
              "      <td>0.999644</td>\n",
              "      <td>0.000039</td>\n",
              "      <td>0.000127</td>\n",
              "      <td>0.000096</td>\n",
              "    </tr>\n",
              "    <tr>\n",
              "      <th>...</th>\n",
              "      <td>...</td>\n",
              "      <td>...</td>\n",
              "      <td>...</td>\n",
              "      <td>...</td>\n",
              "      <td>...</td>\n",
              "      <td>...</td>\n",
              "      <td>...</td>\n",
              "      <td>...</td>\n",
              "    </tr>\n",
              "    <tr>\n",
              "      <th>440</th>\n",
              "      <td>trial date is set for balco case a us judge ha...</td>\n",
              "      <td>sport</td>\n",
              "      <td>sport</td>\n",
              "      <td>0.001183</td>\n",
              "      <td>0.000524</td>\n",
              "      <td>0.000100</td>\n",
              "      <td>0.998011</td>\n",
              "      <td>0.000182</td>\n",
              "    </tr>\n",
              "    <tr>\n",
              "      <th>441</th>\n",
              "      <td>eurovision  greats  to do battle stars of the ...</td>\n",
              "      <td>entertainment</td>\n",
              "      <td>entertainment</td>\n",
              "      <td>0.000075</td>\n",
              "      <td>0.999660</td>\n",
              "      <td>0.000080</td>\n",
              "      <td>0.000112</td>\n",
              "      <td>0.000073</td>\n",
              "    </tr>\n",
              "    <tr>\n",
              "      <th>442</th>\n",
              "      <td>low-budget film wins cesar a film that follows...</td>\n",
              "      <td>entertainment</td>\n",
              "      <td>entertainment</td>\n",
              "      <td>0.000068</td>\n",
              "      <td>0.999607</td>\n",
              "      <td>0.000032</td>\n",
              "      <td>0.000169</td>\n",
              "      <td>0.000124</td>\n",
              "    </tr>\n",
              "    <tr>\n",
              "      <th>443</th>\n",
              "      <td>minimum wage increased to £5.05 the minimum wa...</td>\n",
              "      <td>politics</td>\n",
              "      <td>business</td>\n",
              "      <td>0.963714</td>\n",
              "      <td>0.000741</td>\n",
              "      <td>0.029419</td>\n",
              "      <td>0.001687</td>\n",
              "      <td>0.004440</td>\n",
              "    </tr>\n",
              "    <tr>\n",
              "      <th>444</th>\n",
              "      <td>bates seals takeover ken bates has completed h...</td>\n",
              "      <td>sport</td>\n",
              "      <td>sport</td>\n",
              "      <td>0.262399</td>\n",
              "      <td>0.010786</td>\n",
              "      <td>0.005538</td>\n",
              "      <td>0.718605</td>\n",
              "      <td>0.002673</td>\n",
              "    </tr>\n",
              "  </tbody>\n",
              "</table>\n",
              "<p>445 rows × 8 columns</p>\n",
              "</div>"
            ],
            "text/plain": [
              "                                                  text  ...      tech\n",
              "0    bortolami predicts dour contest italy skipper ...  ...  0.000145\n",
              "1    totp turns to elvis impersonator top of the po...  ...  0.000208\n",
              "2    brewers  profits lose their fizz heineken and ...  ...  0.000002\n",
              "3    giant waves damage s asia economy governments ...  ...  0.000039\n",
              "4    elvis  set for chart hat-trick  the late us le...  ...  0.000096\n",
              "..                                                 ...  ...       ...\n",
              "440  trial date is set for balco case a us judge ha...  ...  0.000182\n",
              "441  eurovision  greats  to do battle stars of the ...  ...  0.000073\n",
              "442  low-budget film wins cesar a film that follows...  ...  0.000124\n",
              "443  minimum wage increased to £5.05 the minimum wa...  ...  0.004440\n",
              "444  bates seals takeover ken bates has completed h...  ...  0.002673\n",
              "\n",
              "[445 rows x 8 columns]"
            ]
          },
          "metadata": {
            "tags": []
          },
          "execution_count": 30
        }
      ]
    },
    {
      "cell_type": "code",
      "metadata": {
        "id": "Cj2giiXOUqQF",
        "outputId": "a7d71a6c-987e-445f-e490-1f80b1ab528b",
        "colab": {
          "base_uri": "https://localhost:8080/",
          "height": 34
        }
      },
      "source": [
        "predictions = best_model.predict(test[\"text\"])\n",
        "print('Accuracy Score:', accuracy_score(test[\"category\"], predictions))"
      ],
      "execution_count": 31,
      "outputs": [
        {
          "output_type": "stream",
          "text": [
            "Accuracy Score: 0.9730337078651685\n"
          ],
          "name": "stdout"
        }
      ]
    },
    {
      "cell_type": "markdown",
      "metadata": {
        "id": "iWggl-I8OonY"
      },
      "source": [
        "### Export models\n"
      ]
    },
    {
      "cell_type": "code",
      "metadata": {
        "id": "TavkKrUUOuv-"
      },
      "source": [
        "import pickle\n",
        "\n",
        "pickle.dump(best_model, open('logisticRegression.pkl', 'wb'))"
      ],
      "execution_count": 32,
      "outputs": []
    },
    {
      "cell_type": "code",
      "metadata": {
        "id": "e9hFMWSUO4yO",
        "outputId": "08106ef2-0518-42ec-81f0-5710323f0f3f",
        "colab": {
          "base_uri": "https://localhost:8080/",
          "height": 402
        }
      },
      "source": [
        "with open('logisticRegression.pkl', 'rb') as model:\n",
        "    reload_model = pickle.load(model)\n",
        "preds = reload_model.predict_proba(test[\"text\"])\n",
        "\n",
        "p_predict = pipeline.predict_proba(test[\"text\"])\n",
        "f_predict = pipeline.predict(test[\"text\"])\n",
        "p_predict = pd.DataFrame(p_predict).reindex().rename(columns={0: \"business\",1: \"entertainment\",2: \"politics\",3: \"sport\",4: \"tech\"}, errors=\"raise\")\n",
        "f_predict = pd.DataFrame(f_predict).rename(columns={0: \"Predict\"}, errors=\"raise\")\n",
        "predict = pd.concat([test[\"text\"].reset_index(), test[\"category\"].reset_index(),f_predict.reindex(),p_predict], axis=1)\n",
        "predict.drop(\"index\", axis=1)"
      ],
      "execution_count": 34,
      "outputs": [
        {
          "output_type": "execute_result",
          "data": {
            "text/html": [
              "<div>\n",
              "<style scoped>\n",
              "    .dataframe tbody tr th:only-of-type {\n",
              "        vertical-align: middle;\n",
              "    }\n",
              "\n",
              "    .dataframe tbody tr th {\n",
              "        vertical-align: top;\n",
              "    }\n",
              "\n",
              "    .dataframe thead th {\n",
              "        text-align: right;\n",
              "    }\n",
              "</style>\n",
              "<table border=\"1\" class=\"dataframe\">\n",
              "  <thead>\n",
              "    <tr style=\"text-align: right;\">\n",
              "      <th></th>\n",
              "      <th>text</th>\n",
              "      <th>category</th>\n",
              "      <th>Predict</th>\n",
              "      <th>business</th>\n",
              "      <th>entertainment</th>\n",
              "      <th>politics</th>\n",
              "      <th>sport</th>\n",
              "      <th>tech</th>\n",
              "    </tr>\n",
              "  </thead>\n",
              "  <tbody>\n",
              "    <tr>\n",
              "      <th>0</th>\n",
              "      <td>bortolami predicts dour contest italy skipper ...</td>\n",
              "      <td>sport</td>\n",
              "      <td>sport</td>\n",
              "      <td>0.029609</td>\n",
              "      <td>0.034588</td>\n",
              "      <td>0.036958</td>\n",
              "      <td>0.858499</td>\n",
              "      <td>0.040346</td>\n",
              "    </tr>\n",
              "    <tr>\n",
              "      <th>1</th>\n",
              "      <td>totp turns to elvis impersonator top of the po...</td>\n",
              "      <td>entertainment</td>\n",
              "      <td>entertainment</td>\n",
              "      <td>0.036539</td>\n",
              "      <td>0.780692</td>\n",
              "      <td>0.038009</td>\n",
              "      <td>0.077513</td>\n",
              "      <td>0.067246</td>\n",
              "    </tr>\n",
              "    <tr>\n",
              "      <th>2</th>\n",
              "      <td>brewers  profits lose their fizz heineken and ...</td>\n",
              "      <td>business</td>\n",
              "      <td>business</td>\n",
              "      <td>0.943774</td>\n",
              "      <td>0.013989</td>\n",
              "      <td>0.012170</td>\n",
              "      <td>0.013535</td>\n",
              "      <td>0.016532</td>\n",
              "    </tr>\n",
              "    <tr>\n",
              "      <th>3</th>\n",
              "      <td>giant waves damage s asia economy governments ...</td>\n",
              "      <td>business</td>\n",
              "      <td>business</td>\n",
              "      <td>0.851738</td>\n",
              "      <td>0.023264</td>\n",
              "      <td>0.065154</td>\n",
              "      <td>0.022029</td>\n",
              "      <td>0.037816</td>\n",
              "    </tr>\n",
              "    <tr>\n",
              "      <th>4</th>\n",
              "      <td>elvis  set for chart hat-trick  the late us le...</td>\n",
              "      <td>entertainment</td>\n",
              "      <td>entertainment</td>\n",
              "      <td>0.075415</td>\n",
              "      <td>0.756832</td>\n",
              "      <td>0.038077</td>\n",
              "      <td>0.067763</td>\n",
              "      <td>0.061914</td>\n",
              "    </tr>\n",
              "    <tr>\n",
              "      <th>...</th>\n",
              "      <td>...</td>\n",
              "      <td>...</td>\n",
              "      <td>...</td>\n",
              "      <td>...</td>\n",
              "      <td>...</td>\n",
              "      <td>...</td>\n",
              "      <td>...</td>\n",
              "      <td>...</td>\n",
              "    </tr>\n",
              "    <tr>\n",
              "      <th>440</th>\n",
              "      <td>trial date is set for balco case a us judge ha...</td>\n",
              "      <td>sport</td>\n",
              "      <td>sport</td>\n",
              "      <td>0.133163</td>\n",
              "      <td>0.097213</td>\n",
              "      <td>0.064616</td>\n",
              "      <td>0.641921</td>\n",
              "      <td>0.063087</td>\n",
              "    </tr>\n",
              "    <tr>\n",
              "      <th>441</th>\n",
              "      <td>eurovision  greats  to do battle stars of the ...</td>\n",
              "      <td>entertainment</td>\n",
              "      <td>entertainment</td>\n",
              "      <td>0.068113</td>\n",
              "      <td>0.748244</td>\n",
              "      <td>0.050037</td>\n",
              "      <td>0.080127</td>\n",
              "      <td>0.053479</td>\n",
              "    </tr>\n",
              "    <tr>\n",
              "      <th>442</th>\n",
              "      <td>low-budget film wins cesar a film that follows...</td>\n",
              "      <td>entertainment</td>\n",
              "      <td>entertainment</td>\n",
              "      <td>0.033027</td>\n",
              "      <td>0.866613</td>\n",
              "      <td>0.023950</td>\n",
              "      <td>0.044098</td>\n",
              "      <td>0.032311</td>\n",
              "    </tr>\n",
              "    <tr>\n",
              "      <th>443</th>\n",
              "      <td>minimum wage increased to £5.05 the minimum wa...</td>\n",
              "      <td>politics</td>\n",
              "      <td>business</td>\n",
              "      <td>0.484351</td>\n",
              "      <td>0.060722</td>\n",
              "      <td>0.255188</td>\n",
              "      <td>0.083080</td>\n",
              "      <td>0.116658</td>\n",
              "    </tr>\n",
              "    <tr>\n",
              "      <th>444</th>\n",
              "      <td>bates seals takeover ken bates has completed h...</td>\n",
              "      <td>sport</td>\n",
              "      <td>sport</td>\n",
              "      <td>0.279236</td>\n",
              "      <td>0.096307</td>\n",
              "      <td>0.094377</td>\n",
              "      <td>0.465716</td>\n",
              "      <td>0.064364</td>\n",
              "    </tr>\n",
              "  </tbody>\n",
              "</table>\n",
              "<p>445 rows × 8 columns</p>\n",
              "</div>"
            ],
            "text/plain": [
              "                                                  text  ...      tech\n",
              "0    bortolami predicts dour contest italy skipper ...  ...  0.040346\n",
              "1    totp turns to elvis impersonator top of the po...  ...  0.067246\n",
              "2    brewers  profits lose their fizz heineken and ...  ...  0.016532\n",
              "3    giant waves damage s asia economy governments ...  ...  0.037816\n",
              "4    elvis  set for chart hat-trick  the late us le...  ...  0.061914\n",
              "..                                                 ...  ...       ...\n",
              "440  trial date is set for balco case a us judge ha...  ...  0.063087\n",
              "441  eurovision  greats  to do battle stars of the ...  ...  0.053479\n",
              "442  low-budget film wins cesar a film that follows...  ...  0.032311\n",
              "443  minimum wage increased to £5.05 the minimum wa...  ...  0.116658\n",
              "444  bates seals takeover ken bates has completed h...  ...  0.064364\n",
              "\n",
              "[445 rows x 8 columns]"
            ]
          },
          "metadata": {
            "tags": []
          },
          "execution_count": 34
        }
      ]
    },
    {
      "cell_type": "code",
      "metadata": {
        "id": "lFauyMwxf0K3"
      },
      "source": [
        ""
      ],
      "execution_count": null,
      "outputs": []
    }
  ]
}