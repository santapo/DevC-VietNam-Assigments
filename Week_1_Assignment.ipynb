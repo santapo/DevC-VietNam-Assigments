{
  "nbformat": 4,
  "nbformat_minor": 0,
  "metadata": {
    "colab": {
      "name": "Week 1 Assignment",
      "provenance": [],
      "collapsed_sections": [],
      "toc_visible": true,
      "include_colab_link": true
    },
    "kernelspec": {
      "name": "python3",
      "display_name": "Python 3"
    }
  },
  "cells": [
    {
      "cell_type": "markdown",
      "metadata": {
        "id": "view-in-github",
        "colab_type": "text"
      },
      "source": [
        "<a href=\"https://colab.research.google.com/github/santapo/DevC-VietNam-Assigments/blob/master/Week_1_Assignment.ipynb\" target=\"_parent\"><img src=\"https://colab.research.google.com/assets/colab-badge.svg\" alt=\"Open In Colab\"/></a>"
      ]
    },
    {
      "cell_type": "markdown",
      "metadata": {
        "id": "K-UTH5d-XiQC",
        "colab_type": "text"
      },
      "source": [
        "#SQL\n"
      ]
    },
    {
      "cell_type": "markdown",
      "metadata": {
        "id": "WD0e6TnIW9Hu",
        "colab_type": "text"
      },
      "source": [
        "##Task 1\n",
        "Query all columns for a city in CITY with the ID 1661.\n",
        "\n",
        "Input Format\n",
        "\n",
        "The CITY table is described as follows: <br>\n",
        "<img src = \"https://s3.amazonaws.com/hr-challenge-images/8137/1449729804-f21d187d0f-CITY.jpg\">\n",
        "\n",
        "1.   List item\n",
        "2.   List item\n",
        "\n"
      ]
    },
    {
      "cell_type": "code",
      "metadata": {
        "id": "K4Bt1V9rW_KJ",
        "colab_type": "code",
        "colab": {}
      },
      "source": [
        "import sqlite3\n",
        "import pandas as pd\n",
        "\n",
        "pd.read_sql_query('SELECT * FROM CITY where ID=1661;', conn)"
      ],
      "execution_count": null,
      "outputs": []
    },
    {
      "cell_type": "markdown",
      "metadata": {
        "id": "f6A9keYQXtfC",
        "colab_type": "text"
      },
      "source": [
        "##Task 2\n",
        "Query all columns for all American cities in CITY with populations larger than 100000. The CountryCode for America is USA.\n",
        "\n",
        "Input Format<br>\n",
        "<img src = \"https://s3.amazonaws.com/hr-challenge-images/8137/1449729804-f21d187d0f-CITY.jpg\">\n"
      ]
    },
    {
      "cell_type": "code",
      "metadata": {
        "id": "2AeLf7ooX7O-",
        "colab_type": "code",
        "colab": {}
      },
      "source": [
        "pd.read_sql_query('SELECT * FROM CITY where POPULATION>100000 and COUNTRYCODE=\"USA\";', conn)"
      ],
      "execution_count": null,
      "outputs": []
    },
    {
      "cell_type": "markdown",
      "metadata": {
        "id": "r69LByLtYCY0",
        "colab_type": "text"
      },
      "source": [
        "##Task 3\n",
        "Query all attributes of every Japanese city in the CITY table. The COUNTRYCODE for Japan is JPN.\n",
        "\n",
        "Input Format:<br>\n",
        "<img src = \"https://s3.amazonaws.com/hr-challenge-images/8137/1449729804-f21d187d0f-CITY.jpg\">"
      ]
    },
    {
      "cell_type": "code",
      "metadata": {
        "id": "olzcFs4-YVm6",
        "colab_type": "code",
        "colab": {}
      },
      "source": [
        "pd.read_sql_query('SELECT * FROM CITY where COUNTRYCODE=\"JPN\";', conn)"
      ],
      "execution_count": null,
      "outputs": []
    },
    {
      "cell_type": "markdown",
      "metadata": {
        "id": "kNb_l0BAYqQY",
        "colab_type": "text"
      },
      "source": [
        "##Task 4\n",
        "Query the names of all the Japanese cities in the CITY table. The COUNTRYCODE for Japan is JPN.\n",
        "\n",
        "Input Format<br>\n",
        "<img src = \"https://s3.amazonaws.com/hr-challenge-images/8137/1449729804-f21d187d0f-CITY.jpg\">\n"
      ]
    },
    {
      "cell_type": "code",
      "metadata": {
        "id": "SGkB1ac5Y8C2",
        "colab_type": "code",
        "colab": {}
      },
      "source": [
        "pd.read_sql_query('select NAME from CITY where COUNTRYCODE=\"JPN\";', conn)"
      ],
      "execution_count": null,
      "outputs": []
    },
    {
      "cell_type": "markdown",
      "metadata": {
        "id": "G_YzuI-hZBeL",
        "colab_type": "text"
      },
      "source": [
        "##Task 5\n",
        "Query a list of CITY and STATE from the STATION table.\n",
        "\n",
        "Input Format\n",
        "\n",
        "The STATION table is described as follows:<br>\n",
        "<img src = 'https://s3.amazonaws.com/hr-challenge-images/9336/1449345840-5f0a551030-Station.jpg'>"
      ]
    },
    {
      "cell_type": "code",
      "metadata": {
        "id": "1WxKBKUOZNUQ",
        "colab_type": "code",
        "colab": {}
      },
      "source": [
        "pd.read_sql_query('select CITY, STATE from STATION order by CITY desc;',conn)"
      ],
      "execution_count": null,
      "outputs": []
    },
    {
      "cell_type": "markdown",
      "metadata": {
        "id": "OqMKxr4hZSBn",
        "colab_type": "text"
      },
      "source": [
        "##Task 6\n",
        "Query a list of CITY names from STATION with even ID numbers only. You may print the results in any order, but must exclude duplicates from your answer.\n",
        "\n",
        "Input Format\n",
        "\n",
        "The STATION table is described as follows:<br>\n",
        "<img src =\"https://s3.amazonaws.com/hr-challenge-images/9336/1449345840-5f0a551030-Station.jpg\">\n"
      ]
    },
    {
      "cell_type": "code",
      "metadata": {
        "id": "OOF-_k34Zg3U",
        "colab_type": "code",
        "colab": {}
      },
      "source": [
        "pd.read_sql_query('select distinct CITY from STATION where ID % 2 = 0;',conn)"
      ],
      "execution_count": null,
      "outputs": []
    },
    {
      "cell_type": "markdown",
      "metadata": {
        "id": "ZcN5Ns0fZnT9",
        "colab_type": "text"
      },
      "source": [
        "Let  be the number of CITY entries in STATION, and let  be the number of distinct CITY names in STATION; query the value of  from STATION. In other words, find the difference between the total number of CITY entries in the table and the number of distinct CITY entries in the table.\n",
        "\n",
        "Input Format\n",
        "\n",
        "The STATION table is described as follows:<br>\n",
        "<img src = \"https://s3.amazonaws.com/hr-challenge-images/9336/1449345840-5f0a551030-Station.jpg\"><br>\n",
        "where LAT_N is the northern latitude and LONG_W is the western longitude."
      ]
    },
    {
      "cell_type": "code",
      "metadata": {
        "id": "J8Hcjsl6lVW8",
        "colab_type": "code",
        "colab": {}
      },
      "source": [
        "pd.read_sql_query('select count(CITY) - count(distinct CITY) from STATION;', conn)"
      ],
      "execution_count": null,
      "outputs": []
    },
    {
      "cell_type": "markdown",
      "metadata": {
        "id": "8fWTW_yflyCC",
        "colab_type": "text"
      },
      "source": [
        "##Task 7\n",
        "Query the two cities in STATION with the shortest and longest CITY names, as well as their respective lengths (i.e.: number of characters in the name). If there is more than one smallest or largest city, choose the one that comes first when ordered alphabetically.\n",
        "\n",
        "Input Format\n",
        "\n",
        "The STATION table is described as follows:<br>\n",
        "  <img src = \"https://s3.amazonaws.com/hr-challenge-images/9336/1449345840-5f0a551030-Station.jpg\">\n",
        "  "
      ]
    },
    {
      "cell_type": "code",
      "metadata": {
        "id": "zPqGViBgl4mL",
        "colab_type": "code",
        "colab": {}
      },
      "source": [
        "pd.read_sql_query('select CITY, length(CITY) from STATION order by length(CITY) ASC, CITY limit 1;',conn)\n",
        "pd.read_sql_query('select CITY, length(CITY) from STATION order by length(CITY) DESC, CITY limit 1;',conn)"
      ],
      "execution_count": null,
      "outputs": []
    },
    {
      "cell_type": "markdown",
      "metadata": {
        "id": "34DxPDy5l9N2",
        "colab_type": "text"
      },
      "source": [
        "##Task 8\n",
        "Query the list of CITY names starting with vowels (i.e., a, e, i, o, or u) from STATION. Your result cannot contain duplicates.\n",
        "\n",
        "Input Format\n",
        "\n",
        "The STATION table is described as follows: <br>\n",
        "<img src = \"https://s3.amazonaws.com/hr-challenge-images/9336/1449345840-5f0a551030-Station.jpg\" >\n"
      ]
    },
    {
      "cell_type": "code",
      "metadata": {
        "id": "RWRar3_emQ7Y",
        "colab_type": "code",
        "colab": {}
      },
      "source": [
        "pd.read_sql_query(\"select distinct CITY from STATION where CITY regexp '^[aeiou]';\",conn)"
      ],
      "execution_count": null,
      "outputs": []
    },
    {
      "cell_type": "markdown",
      "metadata": {
        "id": "E1WTjlFPmTfp",
        "colab_type": "text"
      },
      "source": [
        "##Task 9\n",
        "Query the list of CITY names ending with vowels (a, e, i, o, u) from STATION. Your result cannot contain duplicates.\n",
        "\n",
        "Input Format\n",
        "\n",
        "The STATION table is described as follows:<br>\n",
        "<img src =\"https://s3.amazonaws.com/hr-challenge-images/9336/1449345840-5f0a551030-Station.jpg\">\n"
      ]
    },
    {
      "cell_type": "code",
      "metadata": {
        "id": "wQ7n53Lwmp1Z",
        "colab_type": "code",
        "colab": {}
      },
      "source": [
        "pd.read_sql_query(\"select distinct CITY from STATION where CITY regexp '[aeiou]$';\",conn)"
      ],
      "execution_count": null,
      "outputs": []
    },
    {
      "cell_type": "markdown",
      "metadata": {
        "id": "bNSYroclmsPI",
        "colab_type": "text"
      },
      "source": [
        "##Task 10\n",
        "Query the list of CITY names from STATION which have vowels (i.e., a, e, i, o, and u) as both their first and last characters. Your result cannot contain duplicates.\n",
        "\n",
        "Input Format\n",
        "\n",
        "The STATION table is described as follows:<br>\n",
        "<img src =\"https://s3.amazonaws.com/hr-challenge-images/9336/1449345840-5f0a551030-Station.jpg\">"
      ]
    },
    {
      "cell_type": "code",
      "metadata": {
        "id": "PQZ0Tecam6hD",
        "colab_type": "code",
        "colab": {}
      },
      "source": [
        "pd.read_sql_query(\"select distinct CITY from STATION where CITY regexp '^[aeiou]'.*'[aeiou]$';\",conn)"
      ],
      "execution_count": null,
      "outputs": []
    },
    {
      "cell_type": "markdown",
      "metadata": {
        "id": "xVhmj5x_6xnk",
        "colab_type": "text"
      },
      "source": [
        "##Bonus\n",
        "### Queries with aggregates\n",
        "\n",
        "SQL also supports the use of aggregate expressions (or functions) that allow you to summarize information about a group of rows of data.\n",
        "\n",
        "Common aggregate functions:\n",
        "\n",
        "| Functions | Description |\n",
        "|:-:|:-:|\n",
        "|**COUNT**(*), **COUNT**(column) | A common function used to counts the number of rows in the group if no column name is specified. Otherwise, count the number of rows in the group with non-NULL values in the specified column.|\n",
        "|**MIN**(column) | Finds the smallest numerical value in the specified column for all rows in the group.|\n",
        "|**MAX**(column) | Finds the largest numerical value in the specified column for all rows in the group.|\n",
        "|**AVG**(column) | Finds the average numerical value in the specified column for all rows in the group.|\n",
        "|**SUM**(column) | Finds the sum of all numerical values in the specified column for the rows in the group.|\n",
        "\n",
        "More docs: [SQLite](http://www.sqlite.org/lang_aggfunc.html), [MySQL](https://dev.mysql.com/doc/refman/5.6/en/group-by-functions.html), [Postgres](http://www.postgresql.org/docs/9.4/static/functions-aggregate.html)\n",
        "\n",
        "In addition to aggregating across all the rows, you can instead apply the aggregate functions to individual groups of data within that group. This would then create as many results as there are unique groups defined as by the  **GROUP BY** clause.\n",
        "\n",
        "```\n",
        "SELECT AGG_FUNC(column_or_expression) AS aggregate_description, …\n",
        "FROM mytable\n",
        "WHERE constraint_expression\n",
        "GROUP BY column;\n",
        "```\n",
        "\n",
        "Our queries are getting fairly complex, but we have nearly introduced all the important parts of a  **SELECT** query. One thing that you might have noticed is that if the **GROUP BY** clause is executed after the **WHERE** clause (which filters the rows which are to be grouped), then how exactly do we filter the grouped rows?\n",
        "\n",
        "Luckily, SQL allows us to do this by adding an additional **HAVING** clause which is used specifically with the **GROUP BY** clause to allow us to filter grouped rows from the result set.\n",
        "\n",
        "```\n",
        "SELECT group_by_column, AGG_FUNC(column_expression) AS aggregate_result_alias, …\n",
        "FROM mytable\n",
        "WHERE condition\n",
        "GROUP BY column\n",
        "HAVING group_condition;\n",
        "```\n"
      ]
    },
    {
      "cell_type": "code",
      "metadata": {
        "id": "z3QK3EepBI3H",
        "colab_type": "code",
        "colab": {}
      },
      "source": [
        "# Find the revenue of 2013\n",
        "pd.read_sql_query('''select sum(total) from invoices where strftime('%Y',invoicedate)='2013' ''', conn)"
      ],
      "execution_count": null,
      "outputs": []
    },
    {
      "cell_type": "code",
      "metadata": {
        "id": "XnlVKXmt1lrb",
        "colab_type": "code",
        "colab": {}
      },
      "source": [
        "# Find the number of tracks belong to the genre Rock\n",
        "pd.read_sql_query('''select count(name) from tracks where genreid=1''', conn)\n",
        "# first and last track\n",
        "pd.read_sql_query('''select name from tracks order by trackid asc limit 1''',conn)\n",
        "pd.read_sql_query('''select name from tracks order by trackid desc limit 1''',conn)"
      ],
      "execution_count": null,
      "outputs": []
    },
    {
      "cell_type": "code",
      "metadata": {
        "id": "3XOtPFH8DorX",
        "colab_type": "code",
        "colab": {}
      },
      "source": [
        "# Find the number of customers each employee has supported\n",
        "pd.read_sql_query('''select distinct supportrepid, count(*) from customers group by supportrepid;''', conn)"
      ],
      "execution_count": null,
      "outputs": []
    },
    {
      "cell_type": "code",
      "metadata": {
        "id": "DtMQ5OWpGXN8",
        "colab_type": "code",
        "colab": {}
      },
      "source": [
        "# Find the customer who paid the most\n",
        "pd.read_sql_query('''select customerid, sum(Total) from invoices group by customerid order by sum(Total) desc limit 1 ''', conn)"
      ],
      "execution_count": null,
      "outputs": []
    },
    {
      "cell_type": "code",
      "metadata": {
        "id": "qOFdo1XdQyCq",
        "colab_type": "code",
        "colab": {}
      },
      "source": [
        "# Find the richest artist\n",
        "pd.read_sql_query('''select artists.name as a_name,\n",
        "                            sum(invoice_items.unitprice * invoice_items.quantity) as total\n",
        "                      from artists\n",
        "                      inner join albums on artists.artistid=albums.artistid\n",
        "                      inner join tracks on tracks.albumid=albums.albumid\n",
        "                      inner join invoice_items on invoice_items.trackid=tracks.trackid\n",
        "                      group by artists.artistid\n",
        "                      order by total desc\n",
        "                      limit 1\n",
        "                      ;''',conn)"
      ],
      "execution_count": null,
      "outputs": []
    },
    {
      "cell_type": "markdown",
      "metadata": {
        "id": "DJT7d3P6nJx9",
        "colab_type": "text"
      },
      "source": [
        "#Python"
      ]
    },
    {
      "cell_type": "markdown",
      "metadata": {
        "id": "6IwVOztbngOn",
        "colab_type": "text"
      },
      "source": [
        "##Task 1\n",
        "Task\n",
        "Given an integer, perform the following conditional actions:\n",
        "\n",
        "* If n is odd, print `Weird`\n",
        "* If n is even and in the inclusive range of 2 to 5, print `Not Weird`\n",
        "* If n is even and in the inclusive range of 6 to 20, print `Weird`\n",
        "* If n is even and greater than 20, print `Not Weird`\n",
        "\n",
        "Input Format\n",
        "\n",
        "A single line containing a positive integer\n",
        "\n",
        "Output Format\n",
        "\n",
        "Print Weird if the number is weird; otherwise, print Not Weird."
      ]
    },
    {
      "cell_type": "code",
      "metadata": {
        "id": "1BfL6RuLoXFl",
        "colab_type": "code",
        "colab": {
          "base_uri": "https://localhost:8080/",
          "height": 52
        },
        "outputId": "f53d6b43-e970-4a1e-bccb-3f9587758c7f"
      },
      "source": [
        "if __name__ == '__main__':\n",
        "    n = int(input())\n",
        "    if (n%2):\n",
        "      print(\"Weird\")\n",
        "    else:\n",
        "      if n<6:\n",
        "        print(\"Not Weird\")\n",
        "      elif (n>=6) and (n<=20):\n",
        "        print(\"Weird\")\n",
        "      else:\n",
        "        print(\"Not Weird\")"
      ],
      "execution_count": null,
      "outputs": [
        {
          "output_type": "stream",
          "text": [
            "7\n",
            "Weird\n"
          ],
          "name": "stdout"
        }
      ]
    },
    {
      "cell_type": "markdown",
      "metadata": {
        "id": "ZozvHrq_o3VH",
        "colab_type": "text"
      },
      "source": [
        "##Task 2\n",
        "Read two integers from STDIN and print three lines where:\n",
        "<ol>\n",
        "  <li>The first line contains the sum of the two numbers.</li>\n",
        "  <li>The second line contains the difference of the two numbers (first - second).</li>\n",
        "  <li>The third line contains the product of the two numbers.</li>\n",
        "</ol>\n",
        "\n",
        "**Input Format**\n",
        "\n",
        "The first line contains the first integer, **a**. The second line contains the second integer, **b**.\n",
        "\n",
        "**Output Format**\n",
        "\n",
        "Print the three lines as explained above."
      ]
    },
    {
      "cell_type": "code",
      "metadata": {
        "id": "W59QuFDUp8A6",
        "colab_type": "code",
        "colab": {
          "base_uri": "https://localhost:8080/",
          "height": 104
        },
        "outputId": "fd4a864e-b4bd-4623-f14f-c839501c3109"
      },
      "source": [
        "if __name__ == '__main__':\n",
        "    a = int(input())\n",
        "    b = int(input())\n",
        "    print(a+b)\n",
        "    print(a-b)\n",
        "    print(a*b)"
      ],
      "execution_count": null,
      "outputs": [
        {
          "output_type": "stream",
          "text": [
            "4\n",
            "2\n",
            "6\n",
            "2\n",
            "8\n"
          ],
          "name": "stdout"
        }
      ]
    },
    {
      "cell_type": "markdown",
      "metadata": {
        "id": "nRtP3Qt4qWPW",
        "colab_type": "text"
      },
      "source": [
        "##Task 3\n",
        "Task\n",
        "Read an integer $N$. For all non-negative integers $i<N$ , print $i^{2}$. See the sample for details.\n",
        "\n",
        "Input Format\n",
        "\n",
        "The first and only line contains the integer, $N$ .\n",
        "\n",
        "Constraints<br>\n",
        "$1 \\leq N \\leq i$\n",
        "\n",
        "Output Format\n",
        "\n",
        "Print $N$ lines, one corresponding to each $i$."
      ]
    },
    {
      "cell_type": "code",
      "metadata": {
        "id": "vwwkRd5kqPt6",
        "colab_type": "code",
        "colab": {
          "base_uri": "https://localhost:8080/",
          "height": 104
        },
        "outputId": "c7459d8d-b330-455f-d498-80695232a424"
      },
      "source": [
        "if __name__ == '__main__':\n",
        "    n = int(input())\n",
        "    # your code here\n",
        "    for i in range(0,n):\n",
        "      print(i**2)"
      ],
      "execution_count": null,
      "outputs": [
        {
          "output_type": "stream",
          "text": [
            "4\n",
            "0\n",
            "1\n",
            "4\n",
            "9\n"
          ],
          "name": "stdout"
        }
      ]
    },
    {
      "cell_type": "markdown",
      "metadata": {
        "id": "6dXblWaxrpaA",
        "colab_type": "text"
      },
      "source": [
        "##Task 4\n",
        "We add a Leap Day on February 29, almost every four years. The leap day is an extra, or intercalary day and we add it to the shortest month of the year, February.<br>\n",
        "\n",
        "In the Gregorian calendar three criteria must be taken into account to identify leap years:\n",
        "<ul>\n",
        "<li>The year can be evenly divided by 4, is a leap year, unless:</li>\n",
        "  <ul><li>The year can be evenly divided by 100, it is NOT a leap year, unless:</li>\n",
        "    <ul><li>The year is also evenly divisible by 400. Then it is a leap year.</li></ul></ul></ul>\n",
        "This means that in the Gregorian calendar, the years 2000 and 2400 are leap years, while 1800, 1900, 2100, 2200, 2300 and 2500 are NOT leap years.Source\n",
        "\n",
        "**Task**<br>\n",
        "<ul>\n",
        "<li>You are given the year, and you have to write a function to check if the year is leap or not.</li>\n",
        "\n",
        "  <li>Note that you have to complete the function and remaining code is given as template.</li>\n",
        "  </ul>\n",
        "\n",
        "**Input Format**\n",
        "\n",
        "Read y, the year that needs to be checked.\n",
        "\n",
        "**Constraints**<br>\n",
        "$1900 \\leq y \\leq 10^{5}$\n",
        "\n",
        "**Output Format**\n",
        "\n",
        "Output is taken care of by the template. Your function must return a boolean value (True/False)\n",
        "\n"
      ]
    },
    {
      "cell_type": "code",
      "metadata": {
        "id": "8W6xXR9NtrUL",
        "colab_type": "code",
        "colab": {
          "base_uri": "https://localhost:8080/",
          "height": 34
        },
        "outputId": "8570d32d-dcff-4217-9f58-69e9cc23d735"
      },
      "source": [
        "def is_leap(year):\n",
        "  if not (year>=1900) and (year<=1e5):\n",
        "    raise Exception(\"Year must in [1900,10^5]\")\n",
        "   \n",
        "  if (year%400==0):\n",
        "    return True\n",
        "\n",
        "  if (year%4==0) and (year%100!=0):\n",
        "    return True\n",
        "    \n",
        "  return False\n",
        "\n",
        "is_leap(2000)"
      ],
      "execution_count": null,
      "outputs": [
        {
          "output_type": "execute_result",
          "data": {
            "text/plain": [
              "True"
            ]
          },
          "metadata": {
            "tags": []
          },
          "execution_count": 23
        }
      ]
    },
    {
      "cell_type": "markdown",
      "metadata": {
        "id": "B2WQ4__LrpBZ",
        "colab_type": "text"
      },
      "source": [
        "##Task 5\n",
        "Given the participants' score sheet for your University Sports Day, you are required to find the runner-up score. You are given $n$ scores. Store them in a list and find the score of the runner-up.\n",
        "\n",
        "**Input Format**\n",
        "\n",
        "The first line contains $n$ . The second line contains an array $A[]$ of $n$ integers each separated by a space.\n",
        "\n",
        "**Constraints**<br>\n",
        "$2   \\leq n \\leq 10 $<br>\n",
        "$-100 \\leq A[i] \\leq 100 $\n",
        "\n",
        "Output Format\n",
        "\n",
        "Print the runner-up score."
      ]
    },
    {
      "cell_type": "code",
      "metadata": {
        "id": "xp0z6_EEuwFI",
        "colab_type": "code",
        "colab": {
          "base_uri": "https://localhost:8080/",
          "height": 69
        },
        "outputId": "51dd88c0-f720-483e-9fbb-4b46c0d3c9c5"
      },
      "source": [
        "from random import randint\n",
        "\n",
        "if __name__ == '__main__':\n",
        "  n = int(input())\n",
        "  # your code here\n",
        "  if (n<2) or (n>10):\n",
        "    raise Exception(\"n in range of [2,10]\")\n",
        "\n",
        "  A = [ randint(-100,100) for i in range(0,n) ]  \n",
        "  #print(sorted(A))\n",
        "  print(sorted(A)[-2])\n"
      ],
      "execution_count": null,
      "outputs": [
        {
          "output_type": "stream",
          "text": [
            "5\n",
            "[-86, -27, 12, 25, 36]\n",
            "25\n"
          ],
          "name": "stdout"
        }
      ]
    },
    {
      "cell_type": "markdown",
      "metadata": {
        "id": "ZUxblMMZeKJn",
        "colab_type": "text"
      },
      "source": [
        "##Bonus\n",
        "This problem was asked by Snapchat.\n",
        "\n",
        "Given a list of possibly overlapping intervals, return a new list of intervals where all overlapping intervals have been merged.\n",
        "\n",
        "The input list is not necessarily ordered in any way.\n",
        "\n",
        "For example, given [(1, 3), (5, 8), (4, 10), (20, 25)], you should return [(1, 3), (4, 10), (20, 25)].\n"
      ]
    },
    {
      "cell_type": "code",
      "metadata": {
        "id": "YvE3cmBBeoBC",
        "colab_type": "code",
        "colab": {
          "base_uri": "https://localhost:8080/",
          "height": 156
        },
        "outputId": "39728dce-ad2a-4758-aa69-0a443ac7892e"
      },
      "source": [
        "def MergeOverlap(arr):\n",
        "  \n",
        "  if any([ a[1]-a[0]<=0 for a in arr ]):\n",
        "    raise Exception(\"Not an interval\")\n",
        "  \n",
        "  arr.sort(key=lambda x:x[1])\n",
        "  max_end = arr[-1][1]\n",
        "  arr.append([max_end+1,max_end+1])\n",
        "  \n",
        "  arr.sort(key=lambda x:x[0])\n",
        "  #print(arr)\n",
        "  m = []\n",
        "  cur_interval = arr[0] \n",
        "  for i in range(1,len(arr)):\n",
        "    if (cur_interval[1] >= arr[i][0]):\n",
        "      if (cur_interval[1] < arr[i][1]): \n",
        "        cur_interval[1] = arr[i][1]\n",
        "      #print(cur_interval)\n",
        "    else:\n",
        "      #print(\"+\",cur_interval)\n",
        "      m.append(cur_interval)\n",
        "      cur_interval = arr[i]\n",
        "\n",
        "  return m\n",
        "\n",
        "\n",
        "#arr = [[randint(1,100),randint(1,100)] for i in range(5)]\n",
        "#for a in arr:\n",
        "#  if a[1]<a[0]:\n",
        "#    a[0],a[1] = a[1],a[0]\n",
        "\n",
        "#print(arr)\n",
        "#print(MergeOverlap(arr))"
      ],
      "execution_count": null,
      "outputs": [
        {
          "output_type": "stream",
          "text": [
            "[[61, 74], [2, 33], [3, 6], [76, 98], [61, 62]]\n",
            "[[2, 33], [3, 6], [61, 62], [61, 74], [76, 98], [99, 99]]\n",
            "[2, 33]\n",
            "+ [2, 33]\n",
            "[61, 74]\n",
            "+ [61, 74]\n",
            "+ [76, 98]\n",
            "[[2, 33], [61, 74], [76, 98]]\n"
          ],
          "name": "stdout"
        }
      ]
    }
  ]
}